{
 "cells": [
  {
   "cell_type": "markdown",
   "metadata": {},
   "source": [
    "Build a regression model."
   ]
  },
  {
   "cell_type": "code",
   "execution_count": 7,
   "metadata": {},
   "outputs": [
    {
     "data": {
      "text/html": [
       "<div>\n",
       "<style scoped>\n",
       "    .dataframe tbody tr th:only-of-type {\n",
       "        vertical-align: middle;\n",
       "    }\n",
       "\n",
       "    .dataframe tbody tr th {\n",
       "        vertical-align: top;\n",
       "    }\n",
       "\n",
       "    .dataframe thead th {\n",
       "        text-align: right;\n",
       "    }\n",
       "</style>\n",
       "<table border=\"1\" class=\"dataframe\">\n",
       "  <thead>\n",
       "    <tr style=\"text-align: right;\">\n",
       "      <th></th>\n",
       "      <th>empty_slots</th>\n",
       "      <th>free_bikes</th>\n",
       "      <th>POI_name</th>\n",
       "      <th>POI_latitude</th>\n",
       "      <th>POI_longitude</th>\n",
       "      <th>category_name</th>\n",
       "      <th>category_id</th>\n",
       "      <th>price</th>\n",
       "      <th>rating</th>\n",
       "      <th>distance</th>\n",
       "      <th>bike_ll</th>\n",
       "      <th>bike_latitude</th>\n",
       "      <th>bike_longitude</th>\n",
       "    </tr>\n",
       "  </thead>\n",
       "  <tbody>\n",
       "    <tr>\n",
       "      <th>0</th>\n",
       "      <td>15</td>\n",
       "      <td>4</td>\n",
       "      <td>Cueva Colomba</td>\n",
       "      <td>19.437340</td>\n",
       "      <td>-99.137459</td>\n",
       "      <td>Bar</td>\n",
       "      <td>13003.0</td>\n",
       "      <td>2.0</td>\n",
       "      <td>6.1</td>\n",
       "      <td>13.0</td>\n",
       "      <td>19.4374,-99.137571</td>\n",
       "      <td>19.4374</td>\n",
       "      <td>-99.137571</td>\n",
       "    </tr>\n",
       "    <tr>\n",
       "      <th>1</th>\n",
       "      <td>15</td>\n",
       "      <td>4</td>\n",
       "      <td>Tintico</td>\n",
       "      <td>19.437210</td>\n",
       "      <td>-99.137425</td>\n",
       "      <td>Coffee Shop</td>\n",
       "      <td>13035.0</td>\n",
       "      <td>1.0</td>\n",
       "      <td>7.6</td>\n",
       "      <td>16.0</td>\n",
       "      <td>19.4374,-99.137571</td>\n",
       "      <td>19.4374</td>\n",
       "      <td>-99.137571</td>\n",
       "    </tr>\n",
       "    <tr>\n",
       "      <th>2</th>\n",
       "      <td>15</td>\n",
       "      <td>4</td>\n",
       "      <td>La Cueva Colomba</td>\n",
       "      <td>19.437141</td>\n",
       "      <td>-99.137434</td>\n",
       "      <td>Pub</td>\n",
       "      <td>13018.0</td>\n",
       "      <td>1.0</td>\n",
       "      <td>6.1</td>\n",
       "      <td>18.0</td>\n",
       "      <td>19.4374,-99.137571</td>\n",
       "      <td>19.4374</td>\n",
       "      <td>-99.137571</td>\n",
       "    </tr>\n",
       "    <tr>\n",
       "      <th>3</th>\n",
       "      <td>15</td>\n",
       "      <td>4</td>\n",
       "      <td>Tintico Cafe &amp; Galeria</td>\n",
       "      <td>19.437250</td>\n",
       "      <td>-99.137483</td>\n",
       "      <td>Café</td>\n",
       "      <td>13034.0</td>\n",
       "      <td>NaN</td>\n",
       "      <td>NaN</td>\n",
       "      <td>19.0</td>\n",
       "      <td>19.4374,-99.137571</td>\n",
       "      <td>19.4374</td>\n",
       "      <td>-99.137571</td>\n",
       "    </tr>\n",
       "    <tr>\n",
       "      <th>4</th>\n",
       "      <td>15</td>\n",
       "      <td>4</td>\n",
       "      <td>Cantina Río de la Plata</td>\n",
       "      <td>19.437195</td>\n",
       "      <td>-99.137617</td>\n",
       "      <td>Beer Bar</td>\n",
       "      <td>13006.0</td>\n",
       "      <td>1.0</td>\n",
       "      <td>6.6</td>\n",
       "      <td>20.0</td>\n",
       "      <td>19.4374,-99.137571</td>\n",
       "      <td>19.4374</td>\n",
       "      <td>-99.137571</td>\n",
       "    </tr>\n",
       "  </tbody>\n",
       "</table>\n",
       "</div>"
      ],
      "text/plain": [
       "   empty_slots  free_bikes                 POI_name  POI_latitude  \\\n",
       "0           15           4            Cueva Colomba     19.437340   \n",
       "1           15           4                  Tintico     19.437210   \n",
       "2           15           4         La Cueva Colomba     19.437141   \n",
       "3           15           4   Tintico Cafe & Galeria     19.437250   \n",
       "4           15           4  Cantina Río de la Plata     19.437195   \n",
       "\n",
       "   POI_longitude category_name  category_id price  rating  distance  \\\n",
       "0     -99.137459           Bar      13003.0   2.0     6.1      13.0   \n",
       "1     -99.137425   Coffee Shop      13035.0   1.0     7.6      16.0   \n",
       "2     -99.137434           Pub      13018.0   1.0     6.1      18.0   \n",
       "3     -99.137483          Café      13034.0   NaN     NaN      19.0   \n",
       "4     -99.137617      Beer Bar      13006.0   1.0     6.6      20.0   \n",
       "\n",
       "              bike_ll  bike_latitude  bike_longitude  \n",
       "0  19.4374,-99.137571        19.4374      -99.137571  \n",
       "1  19.4374,-99.137571        19.4374      -99.137571  \n",
       "2  19.4374,-99.137571        19.4374      -99.137571  \n",
       "3  19.4374,-99.137571        19.4374      -99.137571  \n",
       "4  19.4374,-99.137571        19.4374      -99.137571  "
      ]
     },
     "execution_count": 7,
     "metadata": {},
     "output_type": "execute_result"
    }
   ],
   "source": [
    "import pandas as pd\n",
    "import numpy as np\n",
    "from sklearn import linear_model, datasets\n",
    "import statsmodels.api as sm\n",
    "\n",
    "df = pd.read_csv(\"bikes_POIs_df.csv\")\n",
    "df.drop(\"Unnamed: 0\", axis=1, inplace=True)\n",
    "df.drop(\"reversed_POI_lat\", axis=1, inplace=True)\n",
    "df.head()"
   ]
  },
  {
   "cell_type": "code",
   "execution_count": 17,
   "metadata": {},
   "outputs": [
    {
     "name": "stdout",
     "output_type": "stream",
     "text": [
      "128\n",
      "['Bar' 'Coffee Shop' 'Pub' 'Café' 'Beer Bar' 'BBQ Joint' 'Dive Bar'\n",
      " 'Mexican Restaurant' 'Diner' 'Restaurant' 'Taco Restaurant'\n",
      " 'Sandwich Restaurant' 'Art Museum' 'Museum' 'Lounge' 'Salad Restaurant'\n",
      " 'Fast Food Restaurant' 'Botanero' 'Cafes, Coffee, and Tea Houses'\n",
      " 'Chinese Restaurant' 'Steakhouse' 'Tapas Restaurant' 'Pizzeria'\n",
      " 'Seafood Restaurant' 'New American Restaurant' 'Peruvian Restaurant'\n",
      " 'Beer Garden' 'American Restaurant' 'Burger Joint' 'Japanese Restaurant'\n",
      " 'Middle Eastern Restaurant' 'Cocktail Bar' 'Afghan Restaurant'\n",
      " 'Speakeasy' 'Arts and Entertainment' 'Brewery' 'Asian Restaurant'\n",
      " 'Comfort Food Restaurant' 'Wine Bar' 'Yucatecan Restaurant' 'Wings Joint'\n",
      " 'Deli' 'Italian Restaurant' 'History Museum' 'Spanish Restaurant'\n",
      " 'Fried Chicken Joint' 'Ice Cream Parlor' 'Bistro'\n",
      " 'Argentinian Restaurant' 'Vegan and Vegetarian Restaurant'\n",
      " 'Mediterranean Restaurant' 'Buffet' 'Karaoke Bar'\n",
      " 'Molecular Gastronomy Restaurant' 'Eastern European Restaurant'\n",
      " 'Sushi Restaurant' 'French Restaurant' 'Hot Dog Joint' 'Whisky Bar'\n",
      " 'Gastropub' 'Burrito Restaurant' 'Brazilian Restaurant' 'Night Club'\n",
      " 'Piano Bar' 'Theme Restaurant' 'Filipino Restaurant'\n",
      " 'Cantonese Restaurant' 'Belgian Restaurant' 'Hotel Bar' 'Pastry Shop'\n",
      " 'Southern / Soul Food Restaurant' 'Gay Bar' 'Sports Bar'\n",
      " 'Arepa Restaurant' 'Sake Bar' 'Hookah Bar' 'Concert Hall'\n",
      " 'Ramen Restaurant' 'Korean Restaurant' 'Tiki Bar' 'Paella Restaurant'\n",
      " 'Caribbean Restaurant' 'Hawaiian Restaurant' 'Bakery'\n",
      " 'Latin American Restaurant' 'Venezuelan Restaurant' 'Noodle Restaurant'\n",
      " 'Romanian Restaurant' 'Vietnamese Restaurant' 'Comedy Club'\n",
      " 'Cupcake Shop' 'Colombian Restaurant' 'Falafel Restaurant' 'Tea Room'\n",
      " 'Greek Restaurant' 'Russian Restaurant' 'Thai Restaurant'\n",
      " 'African Restaurant' 'Rock Club' 'Movie Theater' 'Hotels'\n",
      " 'Juice Bars & Smoothies' 'Italian' 'Cafeteria' 'Mexican' 'Cocktail Bars'\n",
      " 'Pizza' 'Bars' 'Cooking Classes' 'Burgers' 'French' 'Tacos' 'Bistros'\n",
      " 'Brazilian' 'Sandwiches' 'Spanish' 'Chinese' 'Hostels'\n",
      " 'Tapas/Small Plates' 'Japanese' 'Seafood' 'Pueblan' 'Argentine'\n",
      " 'Sports Bars' 'Latin American' 'Coffee & Tea' 'Food Tours' 'Bakeries']\n"
     ]
    }
   ],
   "source": [
    "num_unique_categories = df.category_name.nunique()\n",
    "print(num_unique_categories)\n",
    "unique_categories = df.category_name.unique()\n",
    "print(unique_categories)\n",
    "\n",
    "# too many different categories to include in the regression. \n",
    "# However, if there were fewer, these could be converted from strings to categories using pd.get_dummies\n",
    "# pd.get_dummies is a function in the pandas library that is used to convert categorical variables into a \n",
    "# numerical representation called \"dummy variables\". It is used to handle categorical data in regression problems.\n",
    "# For each unique category, a new column is created with values of either 0 or 1, indicating whether or not \n",
    "# that particular sample belongs to that category."
   ]
  },
  {
   "cell_type": "code",
   "execution_count": 56,
   "metadata": {},
   "outputs": [
    {
     "name": "stderr",
     "output_type": "stream",
     "text": [
      "C:\\Users\\emily\\AppData\\Local\\Temp\\ipykernel_32328\\215549159.py:10: SettingWithCopyWarning: \n",
      "A value is trying to be set on a copy of a slice from a DataFrame.\n",
      "Try using .loc[row_indexer,col_indexer] = value instead\n",
      "\n",
      "See the caveats in the documentation: https://pandas.pydata.org/pandas-docs/stable/user_guide/indexing.html#returning-a-view-versus-a-copy\n",
      "  df_dropped[\"price\"] = pd.to_numeric(df[\"price\"], errors='coerce')\n"
     ]
    },
    {
     "data": {
      "text/plain": [
       "1.0    251\n",
       "2.0    171\n",
       "3.0     47\n",
       "3.3     25\n",
       "5.0     16\n",
       "1.7      7\n",
       "4.0      6\n",
       "Name: price, dtype: int64"
      ]
     },
     "execution_count": 56,
     "metadata": {},
     "output_type": "execute_result"
    }
   ],
   "source": [
    "# need to make sure all columns on which the regression is to be performed are ints/floats. Rn \"price\" is an object\n",
    "# have to drop the NaNs in price before you can convert it to a float\n",
    "# Turns out you have to get rid of all NaNs before doing the regression, even if the types are numeric\n",
    "\n",
    "df[\"price\"].value_counts(dropna=False)\n",
    "    # indicates that there are NaNs in there\n",
    "df_dropped = df.dropna(subset=[\"price\", \"rating\", \"distance\", \"free_bikes\"])\n",
    "    # gets rid of the NaNs\n",
    "\n",
    "df_dropped[\"price\"] = pd.to_numeric(df[\"price\"], errors='coerce')\n",
    "    # change to float\n",
    "\n",
    "df_dropped[\"price\"].value_counts(dropna=False)\n",
    "    # check no NaNs left\n"
   ]
  },
  {
   "cell_type": "code",
   "execution_count": 61,
   "metadata": {},
   "outputs": [
    {
     "data": {
      "text/plain": [
       "price       float64\n",
       "rating      float64\n",
       "distance    float64\n",
       "dtype: object"
      ]
     },
     "execution_count": 61,
     "metadata": {},
     "output_type": "execute_result"
    }
   ],
   "source": [
    "X = df_dropped[[\"price\", \"rating\", \"distance\"]]  \n",
    "    #double brackets because you are creating a new [df - outer brackets]\n",
    "    # with column names input as a [list - inner brackets]\n",
    "y = df_dropped.free_bikes\n",
    "\n",
    "# check datatypes are all floats\n",
    "X.dtypes\n",
    "#y.dtypes"
   ]
  },
  {
   "cell_type": "code",
   "execution_count": 65,
   "metadata": {},
   "outputs": [
    {
     "name": "stdout",
     "output_type": "stream",
     "text": [
      "                            OLS Regression Results                            \n",
      "==============================================================================\n",
      "Dep. Variable:             free_bikes   R-squared:                       0.009\n",
      "Model:                            OLS   Adj. R-squared:                  0.003\n",
      "Method:                 Least Squares   F-statistic:                     1.519\n",
      "Date:                Thu, 02 Feb 2023   Prob (F-statistic):              0.209\n",
      "Time:                        19:07:28   Log-Likelihood:                -1736.7\n",
      "No. Observations:                 523   AIC:                             3481.\n",
      "Df Residuals:                     519   BIC:                             3498.\n",
      "Df Model:                           3                                         \n",
      "Covariance Type:            nonrobust                                         \n",
      "==============================================================================\n",
      "                 coef    std err          t      P>|t|      [0.025      0.975]\n",
      "------------------------------------------------------------------------------\n",
      "const          8.5539      2.048      4.176      0.000       4.530      12.578\n",
      "price          0.6559      0.309      2.122      0.034       0.049       1.263\n",
      "rating        -0.1430      0.285     -0.502      0.616      -0.703       0.417\n",
      "distance       0.0007      0.004      0.171      0.864      -0.007       0.008\n",
      "==============================================================================\n",
      "Omnibus:                       45.120   Durbin-Watson:                   0.634\n",
      "Prob(Omnibus):                  0.000   Jarque-Bera (JB):               55.114\n",
      "Skew:                           0.793   Prob(JB):                     1.08e-12\n",
      "Kurtosis:                       3.129   Cond. No.                         598.\n",
      "==============================================================================\n",
      "\n",
      "Notes:\n",
      "[1] Standard Errors assume that the covariance matrix of the errors is correctly specified.\n"
     ]
    }
   ],
   "source": [
    "X = sm.add_constant(X) # adding a constant to x, which will be the y intercept\n",
    "lin_reg = sm.OLS(y,X)\n",
    "model = lin_reg.fit()\n",
    "\n",
    "print( model.summary() )"
   ]
  },
  {
   "attachments": {},
   "cell_type": "markdown",
   "metadata": {},
   "source": [
    "Interpretation: The adjusted R squared is very low, suggesting that the independent variables collectibely do not explain the number of free bikes\n",
    "\n",
    "Co-efficients: These are all below 1, suggesting that none of the independent variables has a strong relationship withthe number of free bikes.\n",
    "\n",
    "P values are above 0.05 for everything except price, suggesting the other 2 variables are not statistically significant and can't be said to explain any correlation shown.\n",
    "\n",
    "Performing again just for price:"
   ]
  },
  {
   "cell_type": "code",
   "execution_count": 68,
   "metadata": {},
   "outputs": [
    {
     "name": "stdout",
     "output_type": "stream",
     "text": [
      "                            OLS Regression Results                            \n",
      "==============================================================================\n",
      "Dep. Variable:             free_bikes   R-squared:                       0.008\n",
      "Model:                            OLS   Adj. R-squared:                  0.006\n",
      "Method:                 Least Squares   F-statistic:                     4.287\n",
      "Date:                Thu, 02 Feb 2023   Prob (F-statistic):             0.0389\n",
      "Time:                        19:22:14   Log-Likelihood:                -1736.8\n",
      "No. Observations:                 523   AIC:                             3478.\n",
      "Df Residuals:                     521   BIC:                             3486.\n",
      "Df Model:                           1                                         \n",
      "Covariance Type:            nonrobust                                         \n",
      "==============================================================================\n",
      "                 coef    std err          t      P>|t|      [0.025      0.975]\n",
      "------------------------------------------------------------------------------\n",
      "const          7.6064      0.618     12.310      0.000       6.393       8.820\n",
      "price          0.6315      0.305      2.071      0.039       0.032       1.231\n",
      "==============================================================================\n",
      "Omnibus:                       45.132   Durbin-Watson:                   0.634\n",
      "Prob(Omnibus):                  0.000   Jarque-Bera (JB):               55.130\n",
      "Skew:                           0.793   Prob(JB):                     1.07e-12\n",
      "Kurtosis:                       3.129   Cond. No.                         5.11\n",
      "==============================================================================\n",
      "\n",
      "Notes:\n",
      "[1] Standard Errors assume that the covariance matrix of the errors is correctly specified.\n"
     ]
    }
   ],
   "source": [
    "A = df_dropped[[\"price\"]] \n",
    "y = df_dropped.free_bikes\n",
    "\n",
    "A = sm.add_constant(A) # adding a constant to x, which will be the y intercept\n",
    "lin_reg = sm.OLS(y,A)\n",
    "model = lin_reg.fit()\n",
    "\n",
    "print( model.summary() )"
   ]
  },
  {
   "attachments": {},
   "cell_type": "markdown",
   "metadata": {},
   "source": [
    "Adj R squared is still low (range is 0 to 1, and it is only 0.006). However, it's bettern than the 0.03 that it was before. This suggests that not much of the variation in the avaiability of bikes is explained by the price of nearby bars/restaurants.\n",
    "\n",
    "Coefficient measures the strength and direction of any relationship (specifically, the amount of change in y for a one-unit change in x.\n",
    "This is very low, 0.6, suggesting a very weak positive correlation between price and number of free bikes.\n",
    "\n",
    "P value is still below 0.05, suggesting that the correlation, though super weak, is still statistically significant.\n",
    "\n",
    "The standard error measures the variability of the estimated coefficients (estimates how accurately the coefficients predict the response variable). A lower standard error indicates that the coefficients are more precisely estimated and therefore more reliable. The standard error is 0.3, which is quite low, suggesting again that the price is significant (though I don't know how relevant this might be when the coefficient is so low to begin with...?)"
   ]
  },
  {
   "cell_type": "markdown",
   "metadata": {},
   "source": [
    "# Stretch"
   ]
  },
  {
   "cell_type": "markdown",
   "metadata": {},
   "source": [
    "How can you turn the regression model into a classification model?"
   ]
  },
  {
   "cell_type": "code",
   "execution_count": 18,
   "metadata": {},
   "outputs": [],
   "source": [
    "# Using pd.getdummies(), I could parse the 128 unique categories by checking eg \"bar\" \"restaurant\" \"museum\" using string extraction\n",
    "# I could then input these to see whether more free bikes appear near bars, restaurants or museums.\n",
    "\n",
    "# Or, I could put the number of free bikes into categories, eg 0-5, 6-10, 11-15 and then create a model to predict how many bikes\n",
    "# are likely to be free, given the number of bars and restaurants nearby"
   ]
  }
 ],
 "metadata": {
  "kernelspec": {
   "display_name": "base",
   "language": "python",
   "name": "python3"
  },
  "language_info": {
   "codemirror_mode": {
    "name": "ipython",
    "version": 3
   },
   "file_extension": ".py",
   "mimetype": "text/x-python",
   "name": "python",
   "nbconvert_exporter": "python",
   "pygments_lexer": "ipython3",
   "version": "3.9.13"
  },
  "vscode": {
   "interpreter": {
    "hash": "d5ac9bcd108b2c00ec58abd00469c67a851c8d8a43230c3bc56d0205eba92786"
   }
  }
 },
 "nbformat": 4,
 "nbformat_minor": 4
}
