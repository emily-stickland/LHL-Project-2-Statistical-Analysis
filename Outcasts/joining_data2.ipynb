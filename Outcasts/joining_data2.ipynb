{
 "cells": [
  {
   "cell_type": "markdown",
   "metadata": {},
   "source": [
    "Join the data from Part 1 with the data from Part 2 to create a new dataframe."
   ]
  },
  {
   "cell_type": "code",
   "execution_count": 46,
   "metadata": {},
   "outputs": [],
   "source": [
    "import pandas as pd\n",
    "import requests\n",
    "import json\n",
    "import time\n",
    "import matplotlib.pyplot as plt\n",
    "import seaborn as sns\n",
    "from mpl_toolkits.basemap import Basemap as bm"
   ]
  },
  {
   "cell_type": "code",
   "execution_count": 47,
   "metadata": {},
   "outputs": [],
   "source": [
    "bikes = pd.read_csv(\"CDMX_bikes.csv\")\n",
    "POIs = pd.read_csv(\"POIs_5_locs.csv\")"
   ]
  },
  {
   "cell_type": "code",
   "execution_count": 48,
   "metadata": {},
   "outputs": [],
   "source": [
    "five_locs = pd.merge(bikes, POIs, left_on=\"ll\", right_on=\"bike_ll\")"
   ]
  },
  {
   "cell_type": "code",
   "execution_count": 49,
   "metadata": {},
   "outputs": [
    {
     "data": {
      "text/html": [
       "<div>\n",
       "<style scoped>\n",
       "    .dataframe tbody tr th:only-of-type {\n",
       "        vertical-align: middle;\n",
       "    }\n",
       "\n",
       "    .dataframe tbody tr th {\n",
       "        vertical-align: top;\n",
       "    }\n",
       "\n",
       "    .dataframe thead th {\n",
       "        text-align: right;\n",
       "    }\n",
       "</style>\n",
       "<table border=\"1\" class=\"dataframe\">\n",
       "  <thead>\n",
       "    <tr style=\"text-align: right;\">\n",
       "      <th></th>\n",
       "      <th>uid</th>\n",
       "      <th>latitude_x</th>\n",
       "      <th>longitude_x</th>\n",
       "      <th>empty_slots</th>\n",
       "      <th>free_bikes</th>\n",
       "      <th>ll</th>\n",
       "      <th>POI_name</th>\n",
       "      <th>latitude_y</th>\n",
       "      <th>longitude_y</th>\n",
       "      <th>distance</th>\n",
       "      <th>category_name</th>\n",
       "      <th>category_id</th>\n",
       "      <th>prices</th>\n",
       "      <th>bike_ll</th>\n",
       "    </tr>\n",
       "  </thead>\n",
       "  <tbody>\n",
       "    <tr>\n",
       "      <th>0</th>\n",
       "      <td>110</td>\n",
       "      <td>19.432819</td>\n",
       "      <td>-99.151734</td>\n",
       "      <td>4</td>\n",
       "      <td>19</td>\n",
       "      <td>19.432819,-99.151734</td>\n",
       "      <td>La Cima</td>\n",
       "      <td>19.432791</td>\n",
       "      <td>-99.151747</td>\n",
       "      <td>3</td>\n",
       "      <td>Bar</td>\n",
       "      <td>13003</td>\n",
       "      <td>2.0</td>\n",
       "      <td>19.432819,-99.151734</td>\n",
       "    </tr>\n",
       "    <tr>\n",
       "      <th>1</th>\n",
       "      <td>110</td>\n",
       "      <td>19.432819</td>\n",
       "      <td>-99.151734</td>\n",
       "      <td>4</td>\n",
       "      <td>19</td>\n",
       "      <td>19.432819,-99.151734</td>\n",
       "      <td>Viento en Popa</td>\n",
       "      <td>19.432556</td>\n",
       "      <td>-99.151432</td>\n",
       "      <td>43</td>\n",
       "      <td>Seafood Restaurant</td>\n",
       "      <td>13338</td>\n",
       "      <td>3.0</td>\n",
       "      <td>19.432819,-99.151734</td>\n",
       "    </tr>\n",
       "    <tr>\n",
       "      <th>2</th>\n",
       "      <td>110</td>\n",
       "      <td>19.432819</td>\n",
       "      <td>-99.151734</td>\n",
       "      <td>4</td>\n",
       "      <td>19</td>\n",
       "      <td>19.432819,-99.151734</td>\n",
       "      <td>El Mana</td>\n",
       "      <td>19.432653</td>\n",
       "      <td>-99.152212</td>\n",
       "      <td>48</td>\n",
       "      <td>Mexican Restaurant</td>\n",
       "      <td>13303</td>\n",
       "      <td>1.0</td>\n",
       "      <td>19.432819,-99.151734</td>\n",
       "    </tr>\n",
       "    <tr>\n",
       "      <th>3</th>\n",
       "      <td>110</td>\n",
       "      <td>19.432819</td>\n",
       "      <td>-99.151734</td>\n",
       "      <td>4</td>\n",
       "      <td>19</td>\n",
       "      <td>19.432819,-99.151734</td>\n",
       "      <td>El tequio</td>\n",
       "      <td>19.433077</td>\n",
       "      <td>-99.152199</td>\n",
       "      <td>56</td>\n",
       "      <td>Mexican Restaurant</td>\n",
       "      <td>13303</td>\n",
       "      <td>1.0</td>\n",
       "      <td>19.432819,-99.151734</td>\n",
       "    </tr>\n",
       "    <tr>\n",
       "      <th>4</th>\n",
       "      <td>110</td>\n",
       "      <td>19.432819</td>\n",
       "      <td>-99.151734</td>\n",
       "      <td>4</td>\n",
       "      <td>19</td>\n",
       "      <td>19.432819,-99.151734</td>\n",
       "      <td>Cantina el Dragón de Oro</td>\n",
       "      <td>19.432772</td>\n",
       "      <td>-99.152359</td>\n",
       "      <td>65</td>\n",
       "      <td>Restaurant</td>\n",
       "      <td>13065</td>\n",
       "      <td>2.0</td>\n",
       "      <td>19.432819,-99.151734</td>\n",
       "    </tr>\n",
       "    <tr>\n",
       "      <th>5</th>\n",
       "      <td>110</td>\n",
       "      <td>19.432819</td>\n",
       "      <td>-99.151734</td>\n",
       "      <td>4</td>\n",
       "      <td>19</td>\n",
       "      <td>19.432819,-99.151734</td>\n",
       "      <td>Tequio \"Sazón Chilango\"</td>\n",
       "      <td>19.433237</td>\n",
       "      <td>-99.152187</td>\n",
       "      <td>66</td>\n",
       "      <td>Taco Restaurant</td>\n",
       "      <td>13306</td>\n",
       "      <td>1.0</td>\n",
       "      <td>19.432819,-99.151734</td>\n",
       "    </tr>\n",
       "    <tr>\n",
       "      <th>6</th>\n",
       "      <td>110</td>\n",
       "      <td>19.432819</td>\n",
       "      <td>-99.151734</td>\n",
       "      <td>4</td>\n",
       "      <td>19</td>\n",
       "      <td>19.432819,-99.151734</td>\n",
       "      <td>Los Tacos del Seven</td>\n",
       "      <td>19.433188</td>\n",
       "      <td>-99.152015</td>\n",
       "      <td>66</td>\n",
       "      <td>Taco Restaurant</td>\n",
       "      <td>13306</td>\n",
       "      <td>1.0</td>\n",
       "      <td>19.432819,-99.151734</td>\n",
       "    </tr>\n",
       "    <tr>\n",
       "      <th>7</th>\n",
       "      <td>110</td>\n",
       "      <td>19.432819</td>\n",
       "      <td>-99.151734</td>\n",
       "      <td>4</td>\n",
       "      <td>19</td>\n",
       "      <td>19.432819,-99.151734</td>\n",
       "      <td>Cantina el Dragón de Oro</td>\n",
       "      <td>19.432631</td>\n",
       "      <td>-99.152336</td>\n",
       "      <td>66</td>\n",
       "      <td>Bistro</td>\n",
       "      <td>13027</td>\n",
       "      <td>NaN</td>\n",
       "      <td>19.432819,-99.151734</td>\n",
       "    </tr>\n",
       "    <tr>\n",
       "      <th>8</th>\n",
       "      <td>110</td>\n",
       "      <td>19.432819</td>\n",
       "      <td>-99.151734</td>\n",
       "      <td>4</td>\n",
       "      <td>19</td>\n",
       "      <td>19.432819,-99.151734</td>\n",
       "      <td>Cafeteria de Cuba</td>\n",
       "      <td>19.432507</td>\n",
       "      <td>-99.151154</td>\n",
       "      <td>69</td>\n",
       "      <td>Restaurant</td>\n",
       "      <td>13065</td>\n",
       "      <td>NaN</td>\n",
       "      <td>19.432819,-99.151734</td>\n",
       "    </tr>\n",
       "    <tr>\n",
       "      <th>9</th>\n",
       "      <td>110</td>\n",
       "      <td>19.432819</td>\n",
       "      <td>-99.151734</td>\n",
       "      <td>4</td>\n",
       "      <td>19</td>\n",
       "      <td>19.432819,-99.151734</td>\n",
       "      <td>El Buen Amigo</td>\n",
       "      <td>19.432507</td>\n",
       "      <td>-99.151154</td>\n",
       "      <td>74</td>\n",
       "      <td>Burger Joint</td>\n",
       "      <td>13031</td>\n",
       "      <td>1.0</td>\n",
       "      <td>19.432819,-99.151734</td>\n",
       "    </tr>\n",
       "    <tr>\n",
       "      <th>10</th>\n",
       "      <td>110</td>\n",
       "      <td>19.432819</td>\n",
       "      <td>-99.151734</td>\n",
       "      <td>4</td>\n",
       "      <td>19</td>\n",
       "      <td>19.432819,-99.151734</td>\n",
       "      <td>El Cielo</td>\n",
       "      <td>19.433368</td>\n",
       "      <td>-99.151738</td>\n",
       "      <td>75</td>\n",
       "      <td>Mexican Restaurant</td>\n",
       "      <td>13303</td>\n",
       "      <td>1.0</td>\n",
       "      <td>19.432819,-99.151734</td>\n",
       "    </tr>\n",
       "    <tr>\n",
       "      <th>11</th>\n",
       "      <td>110</td>\n",
       "      <td>19.432819</td>\n",
       "      <td>-99.151734</td>\n",
       "      <td>4</td>\n",
       "      <td>19</td>\n",
       "      <td>19.432819,-99.151734</td>\n",
       "      <td>Café la Habana</td>\n",
       "      <td>19.432479</td>\n",
       "      <td>-99.151221</td>\n",
       "      <td>81</td>\n",
       "      <td>Café</td>\n",
       "      <td>13034</td>\n",
       "      <td>2.0</td>\n",
       "      <td>19.432819,-99.151734</td>\n",
       "    </tr>\n",
       "    <tr>\n",
       "      <th>12</th>\n",
       "      <td>110</td>\n",
       "      <td>19.432819</td>\n",
       "      <td>-99.151734</td>\n",
       "      <td>4</td>\n",
       "      <td>19</td>\n",
       "      <td>19.432819,-99.151734</td>\n",
       "      <td>Tacos el Carnal</td>\n",
       "      <td>19.432507</td>\n",
       "      <td>-99.151154</td>\n",
       "      <td>81</td>\n",
       "      <td>Taco Restaurant</td>\n",
       "      <td>13306</td>\n",
       "      <td>1.0</td>\n",
       "      <td>19.432819,-99.151734</td>\n",
       "    </tr>\n",
       "    <tr>\n",
       "      <th>13</th>\n",
       "      <td>110</td>\n",
       "      <td>19.432819</td>\n",
       "      <td>-99.151734</td>\n",
       "      <td>4</td>\n",
       "      <td>19</td>\n",
       "      <td>19.432819,-99.151734</td>\n",
       "      <td>Brujas Café</td>\n",
       "      <td>19.432314</td>\n",
       "      <td>-99.151306</td>\n",
       "      <td>83</td>\n",
       "      <td>Coffee Shop</td>\n",
       "      <td>13035</td>\n",
       "      <td>1.0</td>\n",
       "      <td>19.432819,-99.151734</td>\n",
       "    </tr>\n",
       "    <tr>\n",
       "      <th>14</th>\n",
       "      <td>110</td>\n",
       "      <td>19.432819</td>\n",
       "      <td>-99.151734</td>\n",
       "      <td>4</td>\n",
       "      <td>19</td>\n",
       "      <td>19.432819,-99.151734</td>\n",
       "      <td>Articulo #123</td>\n",
       "      <td>19.432946</td>\n",
       "      <td>-99.151033</td>\n",
       "      <td>85</td>\n",
       "      <td>Thai Restaurant</td>\n",
       "      <td>13352</td>\n",
       "      <td>2.0</td>\n",
       "      <td>19.432819,-99.151734</td>\n",
       "    </tr>\n",
       "    <tr>\n",
       "      <th>15</th>\n",
       "      <td>193</td>\n",
       "      <td>19.422288</td>\n",
       "      <td>-99.162138</td>\n",
       "      <td>30</td>\n",
       "      <td>4</td>\n",
       "      <td>19.422288,-99.162138</td>\n",
       "      <td>Caldos Bens</td>\n",
       "      <td>19.422332</td>\n",
       "      <td>-99.162116</td>\n",
       "      <td>5</td>\n",
       "      <td>Restaurant</td>\n",
       "      <td>13065</td>\n",
       "      <td>NaN</td>\n",
       "      <td>19.422288,-99.162138</td>\n",
       "    </tr>\n",
       "    <tr>\n",
       "      <th>16</th>\n",
       "      <td>193</td>\n",
       "      <td>19.422288</td>\n",
       "      <td>-99.162138</td>\n",
       "      <td>30</td>\n",
       "      <td>4</td>\n",
       "      <td>19.422288,-99.162138</td>\n",
       "      <td>Casa Lorenzo</td>\n",
       "      <td>19.422647</td>\n",
       "      <td>-99.162138</td>\n",
       "      <td>21</td>\n",
       "      <td>Mexican Restaurant</td>\n",
       "      <td>13303</td>\n",
       "      <td>1.0</td>\n",
       "      <td>19.422288,-99.162138</td>\n",
       "    </tr>\n",
       "    <tr>\n",
       "      <th>17</th>\n",
       "      <td>193</td>\n",
       "      <td>19.422288</td>\n",
       "      <td>-99.162138</td>\n",
       "      <td>30</td>\n",
       "      <td>4</td>\n",
       "      <td>19.422288,-99.162138</td>\n",
       "      <td>Daddy's Burgers &amp; Salads</td>\n",
       "      <td>19.422374</td>\n",
       "      <td>-99.161857</td>\n",
       "      <td>30</td>\n",
       "      <td>Burger Joint</td>\n",
       "      <td>13031</td>\n",
       "      <td>1.0</td>\n",
       "      <td>19.422288,-99.162138</td>\n",
       "    </tr>\n",
       "    <tr>\n",
       "      <th>18</th>\n",
       "      <td>193</td>\n",
       "      <td>19.422288</td>\n",
       "      <td>-99.162138</td>\n",
       "      <td>30</td>\n",
       "      <td>4</td>\n",
       "      <td>19.422288,-99.162138</td>\n",
       "      <td>Las Gorditas de Puebla</td>\n",
       "      <td>19.422402</td>\n",
       "      <td>-99.161790</td>\n",
       "      <td>39</td>\n",
       "      <td>Mexican Restaurant</td>\n",
       "      <td>13303</td>\n",
       "      <td>1.0</td>\n",
       "      <td>19.422288,-99.162138</td>\n",
       "    </tr>\n",
       "    <tr>\n",
       "      <th>19</th>\n",
       "      <td>193</td>\n",
       "      <td>19.422288</td>\n",
       "      <td>-99.162138</td>\n",
       "      <td>30</td>\n",
       "      <td>4</td>\n",
       "      <td>19.422288,-99.162138</td>\n",
       "      <td>Gorditas de la glorieta</td>\n",
       "      <td>19.422813</td>\n",
       "      <td>-99.161736</td>\n",
       "      <td>55</td>\n",
       "      <td>Mexican Restaurant</td>\n",
       "      <td>13303</td>\n",
       "      <td>1.0</td>\n",
       "      <td>19.422288,-99.162138</td>\n",
       "    </tr>\n",
       "    <tr>\n",
       "      <th>20</th>\n",
       "      <td>193</td>\n",
       "      <td>19.422288</td>\n",
       "      <td>-99.162138</td>\n",
       "      <td>30</td>\n",
       "      <td>4</td>\n",
       "      <td>19.422288,-99.162138</td>\n",
       "      <td>Taquería Vista Hermosa</td>\n",
       "      <td>19.422731</td>\n",
       "      <td>-99.161620</td>\n",
       "      <td>56</td>\n",
       "      <td>Taco Restaurant</td>\n",
       "      <td>13306</td>\n",
       "      <td>1.0</td>\n",
       "      <td>19.422288,-99.162138</td>\n",
       "    </tr>\n",
       "    <tr>\n",
       "      <th>21</th>\n",
       "      <td>88</td>\n",
       "      <td>19.422148</td>\n",
       "      <td>-99.160645</td>\n",
       "      <td>10</td>\n",
       "      <td>13</td>\n",
       "      <td>19.422148,-99.160645</td>\n",
       "      <td>Hungry Beast Juice Bar &amp; Kitchen</td>\n",
       "      <td>19.422172</td>\n",
       "      <td>-99.160933</td>\n",
       "      <td>15</td>\n",
       "      <td>Restaurant</td>\n",
       "      <td>13065</td>\n",
       "      <td>1.0</td>\n",
       "      <td>19.422148,-99.160645</td>\n",
       "    </tr>\n",
       "    <tr>\n",
       "      <th>22</th>\n",
       "      <td>88</td>\n",
       "      <td>19.422148</td>\n",
       "      <td>-99.160645</td>\n",
       "      <td>10</td>\n",
       "      <td>13</td>\n",
       "      <td>19.422148,-99.160645</td>\n",
       "      <td>Bottega Sartoria</td>\n",
       "      <td>19.422200</td>\n",
       "      <td>-99.160866</td>\n",
       "      <td>16</td>\n",
       "      <td>Deli</td>\n",
       "      <td>13039</td>\n",
       "      <td>1.0</td>\n",
       "      <td>19.422148,-99.160645</td>\n",
       "    </tr>\n",
       "    <tr>\n",
       "      <th>23</th>\n",
       "      <td>88</td>\n",
       "      <td>19.422148</td>\n",
       "      <td>-99.160645</td>\n",
       "      <td>10</td>\n",
       "      <td>13</td>\n",
       "      <td>19.422148,-99.160645</td>\n",
       "      <td>Pizzera Della Maddonna</td>\n",
       "      <td>19.422188</td>\n",
       "      <td>-99.160819</td>\n",
       "      <td>18</td>\n",
       "      <td>Pizzeria</td>\n",
       "      <td>13064</td>\n",
       "      <td>1.0</td>\n",
       "      <td>19.422148,-99.160645</td>\n",
       "    </tr>\n",
       "    <tr>\n",
       "      <th>24</th>\n",
       "      <td>88</td>\n",
       "      <td>19.422148</td>\n",
       "      <td>-99.160645</td>\n",
       "      <td>10</td>\n",
       "      <td>13</td>\n",
       "      <td>19.422148,-99.160645</td>\n",
       "      <td>Cucina</td>\n",
       "      <td>19.422052</td>\n",
       "      <td>-99.160830</td>\n",
       "      <td>22</td>\n",
       "      <td>Restaurant</td>\n",
       "      <td>13065</td>\n",
       "      <td>2.0</td>\n",
       "      <td>19.422148,-99.160645</td>\n",
       "    </tr>\n",
       "    <tr>\n",
       "      <th>25</th>\n",
       "      <td>88</td>\n",
       "      <td>19.422148</td>\n",
       "      <td>-99.160645</td>\n",
       "      <td>10</td>\n",
       "      <td>13</td>\n",
       "      <td>19.422148,-99.160645</td>\n",
       "      <td>Buna</td>\n",
       "      <td>19.421955</td>\n",
       "      <td>-99.160518</td>\n",
       "      <td>25</td>\n",
       "      <td>Café</td>\n",
       "      <td>13034</td>\n",
       "      <td>NaN</td>\n",
       "      <td>19.422148,-99.160645</td>\n",
       "    </tr>\n",
       "    <tr>\n",
       "      <th>26</th>\n",
       "      <td>88</td>\n",
       "      <td>19.422148</td>\n",
       "      <td>-99.160645</td>\n",
       "      <td>10</td>\n",
       "      <td>13</td>\n",
       "      <td>19.422148,-99.160645</td>\n",
       "      <td>Madonna</td>\n",
       "      <td>19.422083</td>\n",
       "      <td>-99.160909</td>\n",
       "      <td>28</td>\n",
       "      <td>Italian Restaurant</td>\n",
       "      <td>13236</td>\n",
       "      <td>2.0</td>\n",
       "      <td>19.422148,-99.160645</td>\n",
       "    </tr>\n",
       "    <tr>\n",
       "      <th>27</th>\n",
       "      <td>88</td>\n",
       "      <td>19.422148</td>\n",
       "      <td>-99.160645</td>\n",
       "      <td>10</td>\n",
       "      <td>13</td>\n",
       "      <td>19.422148,-99.160645</td>\n",
       "      <td>Sartoria</td>\n",
       "      <td>19.421845</td>\n",
       "      <td>-99.160469</td>\n",
       "      <td>33</td>\n",
       "      <td>Italian Restaurant</td>\n",
       "      <td>13236</td>\n",
       "      <td>2.0</td>\n",
       "      <td>19.422148,-99.160645</td>\n",
       "    </tr>\n",
       "    <tr>\n",
       "      <th>28</th>\n",
       "      <td>88</td>\n",
       "      <td>19.422148</td>\n",
       "      <td>-99.160645</td>\n",
       "      <td>10</td>\n",
       "      <td>13</td>\n",
       "      <td>19.422148,-99.160645</td>\n",
       "      <td>Museo PADRE PRO</td>\n",
       "      <td>19.422445</td>\n",
       "      <td>-99.160866</td>\n",
       "      <td>40</td>\n",
       "      <td>History Museum</td>\n",
       "      <td>10030</td>\n",
       "      <td>NaN</td>\n",
       "      <td>19.422148,-99.160645</td>\n",
       "    </tr>\n",
       "    <tr>\n",
       "      <th>29</th>\n",
       "      <td>88</td>\n",
       "      <td>19.422148</td>\n",
       "      <td>-99.160645</td>\n",
       "      <td>10</td>\n",
       "      <td>13</td>\n",
       "      <td>19.422148,-99.160645</td>\n",
       "      <td>El Sambi</td>\n",
       "      <td>19.421746</td>\n",
       "      <td>-99.161179</td>\n",
       "      <td>57</td>\n",
       "      <td>Cocktail Bar</td>\n",
       "      <td>13009</td>\n",
       "      <td>3.0</td>\n",
       "      <td>19.422148,-99.160645</td>\n",
       "    </tr>\n",
       "    <tr>\n",
       "      <th>30</th>\n",
       "      <td>88</td>\n",
       "      <td>19.422148</td>\n",
       "      <td>-99.160645</td>\n",
       "      <td>10</td>\n",
       "      <td>13</td>\n",
       "      <td>19.422148,-99.160645</td>\n",
       "      <td>Santaigo Arte Conservacion y Restauracion</td>\n",
       "      <td>19.421679</td>\n",
       "      <td>-99.160871</td>\n",
       "      <td>57</td>\n",
       "      <td>Restaurant</td>\n",
       "      <td>13065</td>\n",
       "      <td>NaN</td>\n",
       "      <td>19.422148,-99.160645</td>\n",
       "    </tr>\n",
       "    <tr>\n",
       "      <th>31</th>\n",
       "      <td>88</td>\n",
       "      <td>19.422148</td>\n",
       "      <td>-99.160645</td>\n",
       "      <td>10</td>\n",
       "      <td>13</td>\n",
       "      <td>19.422148,-99.160645</td>\n",
       "      <td>Café Toscano</td>\n",
       "      <td>19.421845</td>\n",
       "      <td>-99.160469</td>\n",
       "      <td>61</td>\n",
       "      <td>Café</td>\n",
       "      <td>13034</td>\n",
       "      <td>2.0</td>\n",
       "      <td>19.422148,-99.160645</td>\n",
       "    </tr>\n",
       "    <tr>\n",
       "      <th>32</th>\n",
       "      <td>88</td>\n",
       "      <td>19.422148</td>\n",
       "      <td>-99.160645</td>\n",
       "      <td>10</td>\n",
       "      <td>13</td>\n",
       "      <td>19.422148,-99.160645</td>\n",
       "      <td>La Buena Mesa</td>\n",
       "      <td>19.421679</td>\n",
       "      <td>-99.160871</td>\n",
       "      <td>61</td>\n",
       "      <td>Mexican Restaurant</td>\n",
       "      <td>13303</td>\n",
       "      <td>1.0</td>\n",
       "      <td>19.422148,-99.160645</td>\n",
       "    </tr>\n",
       "    <tr>\n",
       "      <th>33</th>\n",
       "      <td>138</td>\n",
       "      <td>19.420667</td>\n",
       "      <td>-99.156450</td>\n",
       "      <td>14</td>\n",
       "      <td>9</td>\n",
       "      <td>19.420667,-99.15645</td>\n",
       "      <td>Modena Pizza Napolitana</td>\n",
       "      <td>19.420834</td>\n",
       "      <td>-99.156484</td>\n",
       "      <td>15</td>\n",
       "      <td>Pizzeria</td>\n",
       "      <td>13064</td>\n",
       "      <td>1.0</td>\n",
       "      <td>19.420667,-99.15645</td>\n",
       "    </tr>\n",
       "    <tr>\n",
       "      <th>34</th>\n",
       "      <td>138</td>\n",
       "      <td>19.420667</td>\n",
       "      <td>-99.156450</td>\n",
       "      <td>14</td>\n",
       "      <td>9</td>\n",
       "      <td>19.420667,-99.15645</td>\n",
       "      <td>The Food Box</td>\n",
       "      <td>19.420831</td>\n",
       "      <td>-99.156399</td>\n",
       "      <td>18</td>\n",
       "      <td>Burger Joint</td>\n",
       "      <td>13031</td>\n",
       "      <td>1.0</td>\n",
       "      <td>19.420667,-99.15645</td>\n",
       "    </tr>\n",
       "    <tr>\n",
       "      <th>35</th>\n",
       "      <td>138</td>\n",
       "      <td>19.420667</td>\n",
       "      <td>-99.156450</td>\n",
       "      <td>14</td>\n",
       "      <td>9</td>\n",
       "      <td>19.420667,-99.15645</td>\n",
       "      <td>Comal de Piedra</td>\n",
       "      <td>19.420903</td>\n",
       "      <td>-99.156475</td>\n",
       "      <td>19</td>\n",
       "      <td>Mexican Restaurant</td>\n",
       "      <td>13303</td>\n",
       "      <td>1.0</td>\n",
       "      <td>19.420667,-99.15645</td>\n",
       "    </tr>\n",
       "    <tr>\n",
       "      <th>36</th>\n",
       "      <td>138</td>\n",
       "      <td>19.420667</td>\n",
       "      <td>-99.156450</td>\n",
       "      <td>14</td>\n",
       "      <td>9</td>\n",
       "      <td>19.420667,-99.15645</td>\n",
       "      <td>La Ensalada Loka</td>\n",
       "      <td>19.420957</td>\n",
       "      <td>-99.156658</td>\n",
       "      <td>28</td>\n",
       "      <td>Salad Restaurant</td>\n",
       "      <td>13332</td>\n",
       "      <td>1.0</td>\n",
       "      <td>19.420667,-99.15645</td>\n",
       "    </tr>\n",
       "    <tr>\n",
       "      <th>37</th>\n",
       "      <td>138</td>\n",
       "      <td>19.420667</td>\n",
       "      <td>-99.156450</td>\n",
       "      <td>14</td>\n",
       "      <td>9</td>\n",
       "      <td>19.420667,-99.15645</td>\n",
       "      <td>Penya Blaugrana Ciutat de Mèxic</td>\n",
       "      <td>19.420973</td>\n",
       "      <td>-99.156150</td>\n",
       "      <td>30</td>\n",
       "      <td>Lounge</td>\n",
       "      <td>13016</td>\n",
       "      <td>3.0</td>\n",
       "      <td>19.420667,-99.15645</td>\n",
       "    </tr>\n",
       "    <tr>\n",
       "      <th>38</th>\n",
       "      <td>138</td>\n",
       "      <td>19.420667</td>\n",
       "      <td>-99.156450</td>\n",
       "      <td>14</td>\n",
       "      <td>9</td>\n",
       "      <td>19.420667,-99.15645</td>\n",
       "      <td>Salón Paseo de Gracia</td>\n",
       "      <td>19.420973</td>\n",
       "      <td>-99.156150</td>\n",
       "      <td>31</td>\n",
       "      <td>Restaurant</td>\n",
       "      <td>13065</td>\n",
       "      <td>2.0</td>\n",
       "      <td>19.420667,-99.15645</td>\n",
       "    </tr>\n",
       "    <tr>\n",
       "      <th>39</th>\n",
       "      <td>138</td>\n",
       "      <td>19.420667</td>\n",
       "      <td>-99.156450</td>\n",
       "      <td>14</td>\n",
       "      <td>9</td>\n",
       "      <td>19.420667,-99.15645</td>\n",
       "      <td>Sr. Taco</td>\n",
       "      <td>19.420492</td>\n",
       "      <td>-99.156529</td>\n",
       "      <td>32</td>\n",
       "      <td>Mexican Restaurant</td>\n",
       "      <td>13303</td>\n",
       "      <td>1.0</td>\n",
       "      <td>19.420667,-99.15645</td>\n",
       "    </tr>\n",
       "    <tr>\n",
       "      <th>40</th>\n",
       "      <td>138</td>\n",
       "      <td>19.420667</td>\n",
       "      <td>-99.156450</td>\n",
       "      <td>14</td>\n",
       "      <td>9</td>\n",
       "      <td>19.420667,-99.15645</td>\n",
       "      <td>Frito y Cruel</td>\n",
       "      <td>19.420464</td>\n",
       "      <td>-99.156596</td>\n",
       "      <td>33</td>\n",
       "      <td>Fried Chicken Joint</td>\n",
       "      <td>13055</td>\n",
       "      <td>1.0</td>\n",
       "      <td>19.420667,-99.15645</td>\n",
       "    </tr>\n",
       "    <tr>\n",
       "      <th>41</th>\n",
       "      <td>138</td>\n",
       "      <td>19.420667</td>\n",
       "      <td>-99.156450</td>\n",
       "      <td>14</td>\n",
       "      <td>9</td>\n",
       "      <td>19.420667,-99.15645</td>\n",
       "      <td>Los Lonches</td>\n",
       "      <td>19.420439</td>\n",
       "      <td>-99.156029</td>\n",
       "      <td>36</td>\n",
       "      <td>Sandwich Restaurant</td>\n",
       "      <td>13334</td>\n",
       "      <td>1.0</td>\n",
       "      <td>19.420667,-99.15645</td>\n",
       "    </tr>\n",
       "    <tr>\n",
       "      <th>42</th>\n",
       "      <td>138</td>\n",
       "      <td>19.420667</td>\n",
       "      <td>-99.156450</td>\n",
       "      <td>14</td>\n",
       "      <td>9</td>\n",
       "      <td>19.420667,-99.15645</td>\n",
       "      <td>Nitrology</td>\n",
       "      <td>19.420480</td>\n",
       "      <td>-99.156087</td>\n",
       "      <td>39</td>\n",
       "      <td>Ice Cream Parlor</td>\n",
       "      <td>13046</td>\n",
       "      <td>1.0</td>\n",
       "      <td>19.420667,-99.15645</td>\n",
       "    </tr>\n",
       "    <tr>\n",
       "      <th>43</th>\n",
       "      <td>138</td>\n",
       "      <td>19.420667</td>\n",
       "      <td>-99.156450</td>\n",
       "      <td>14</td>\n",
       "      <td>9</td>\n",
       "      <td>19.420667,-99.15645</td>\n",
       "      <td>El Cuartito</td>\n",
       "      <td>19.420626</td>\n",
       "      <td>-99.156058</td>\n",
       "      <td>41</td>\n",
       "      <td>Speakeasy</td>\n",
       "      <td>13021</td>\n",
       "      <td>3.0</td>\n",
       "      <td>19.420667,-99.15645</td>\n",
       "    </tr>\n",
       "    <tr>\n",
       "      <th>44</th>\n",
       "      <td>138</td>\n",
       "      <td>19.420667</td>\n",
       "      <td>-99.156450</td>\n",
       "      <td>14</td>\n",
       "      <td>9</td>\n",
       "      <td>19.420667,-99.15645</td>\n",
       "      <td>Distro Bistrot</td>\n",
       "      <td>19.420494</td>\n",
       "      <td>-99.156086</td>\n",
       "      <td>44</td>\n",
       "      <td>Bistro</td>\n",
       "      <td>13027</td>\n",
       "      <td>NaN</td>\n",
       "      <td>19.420667,-99.15645</td>\n",
       "    </tr>\n",
       "    <tr>\n",
       "      <th>45</th>\n",
       "      <td>138</td>\n",
       "      <td>19.420667</td>\n",
       "      <td>-99.156450</td>\n",
       "      <td>14</td>\n",
       "      <td>9</td>\n",
       "      <td>19.420667,-99.15645</td>\n",
       "      <td>Eva Sandwichería</td>\n",
       "      <td>19.420296</td>\n",
       "      <td>-99.156249</td>\n",
       "      <td>46</td>\n",
       "      <td>Sandwich Restaurant</td>\n",
       "      <td>13334</td>\n",
       "      <td>1.0</td>\n",
       "      <td>19.420667,-99.15645</td>\n",
       "    </tr>\n",
       "    <tr>\n",
       "      <th>46</th>\n",
       "      <td>138</td>\n",
       "      <td>19.420667</td>\n",
       "      <td>-99.156450</td>\n",
       "      <td>14</td>\n",
       "      <td>9</td>\n",
       "      <td>19.420667,-99.15645</td>\n",
       "      <td>Tortas Perras</td>\n",
       "      <td>19.420302</td>\n",
       "      <td>-99.156047</td>\n",
       "      <td>50</td>\n",
       "      <td>Deli</td>\n",
       "      <td>13039</td>\n",
       "      <td>1.0</td>\n",
       "      <td>19.420667,-99.15645</td>\n",
       "    </tr>\n",
       "    <tr>\n",
       "      <th>47</th>\n",
       "      <td>138</td>\n",
       "      <td>19.420667</td>\n",
       "      <td>-99.156450</td>\n",
       "      <td>14</td>\n",
       "      <td>9</td>\n",
       "      <td>19.420667,-99.15645</td>\n",
       "      <td>El Jacinto Fonda Vegana</td>\n",
       "      <td>19.421238</td>\n",
       "      <td>-99.156418</td>\n",
       "      <td>63</td>\n",
       "      <td>Vegan and Vegetarian Restaurant</td>\n",
       "      <td>13377</td>\n",
       "      <td>2.0</td>\n",
       "      <td>19.420667,-99.15645</td>\n",
       "    </tr>\n",
       "    <tr>\n",
       "      <th>48</th>\n",
       "      <td>138</td>\n",
       "      <td>19.420667</td>\n",
       "      <td>-99.156450</td>\n",
       "      <td>14</td>\n",
       "      <td>9</td>\n",
       "      <td>19.420667,-99.15645</td>\n",
       "      <td>Café Memorias de un Barista</td>\n",
       "      <td>19.421190</td>\n",
       "      <td>-99.156564</td>\n",
       "      <td>64</td>\n",
       "      <td>Coffee Shop</td>\n",
       "      <td>13035</td>\n",
       "      <td>1.0</td>\n",
       "      <td>19.420667,-99.15645</td>\n",
       "    </tr>\n",
       "    <tr>\n",
       "      <th>49</th>\n",
       "      <td>189</td>\n",
       "      <td>19.408841</td>\n",
       "      <td>-99.181692</td>\n",
       "      <td>17</td>\n",
       "      <td>2</td>\n",
       "      <td>19.408841,-99.181692</td>\n",
       "      <td>Hamburguesas la Salle</td>\n",
       "      <td>19.408918</td>\n",
       "      <td>-99.181829</td>\n",
       "      <td>16</td>\n",
       "      <td>Burger Joint</td>\n",
       "      <td>13031</td>\n",
       "      <td>1.0</td>\n",
       "      <td>19.408841,-99.181692</td>\n",
       "    </tr>\n",
       "    <tr>\n",
       "      <th>50</th>\n",
       "      <td>189</td>\n",
       "      <td>19.408841</td>\n",
       "      <td>-99.181692</td>\n",
       "      <td>17</td>\n",
       "      <td>2</td>\n",
       "      <td>19.408841,-99.181692</td>\n",
       "      <td>Tortas el Puas</td>\n",
       "      <td>19.408555</td>\n",
       "      <td>-99.181782</td>\n",
       "      <td>20</td>\n",
       "      <td>Sandwich Restaurant</td>\n",
       "      <td>13334</td>\n",
       "      <td>1.0</td>\n",
       "      <td>19.408841,-99.181692</td>\n",
       "    </tr>\n",
       "    <tr>\n",
       "      <th>51</th>\n",
       "      <td>189</td>\n",
       "      <td>19.408841</td>\n",
       "      <td>-99.181692</td>\n",
       "      <td>17</td>\n",
       "      <td>2</td>\n",
       "      <td>19.408841,-99.181692</td>\n",
       "      <td>Quesadillas Chingonas</td>\n",
       "      <td>19.408760</td>\n",
       "      <td>-99.181755</td>\n",
       "      <td>22</td>\n",
       "      <td>Taco Restaurant</td>\n",
       "      <td>13306</td>\n",
       "      <td>1.0</td>\n",
       "      <td>19.408841,-99.181692</td>\n",
       "    </tr>\n",
       "    <tr>\n",
       "      <th>52</th>\n",
       "      <td>189</td>\n",
       "      <td>19.408841</td>\n",
       "      <td>-99.181692</td>\n",
       "      <td>17</td>\n",
       "      <td>2</td>\n",
       "      <td>19.408841,-99.181692</td>\n",
       "      <td>Tlacoyos y Quecas</td>\n",
       "      <td>19.408967</td>\n",
       "      <td>-99.181894</td>\n",
       "      <td>25</td>\n",
       "      <td>Mexican Restaurant</td>\n",
       "      <td>13303</td>\n",
       "      <td>1.0</td>\n",
       "      <td>19.408841,-99.181692</td>\n",
       "    </tr>\n",
       "    <tr>\n",
       "      <th>53</th>\n",
       "      <td>189</td>\n",
       "      <td>19.408841</td>\n",
       "      <td>-99.181692</td>\n",
       "      <td>17</td>\n",
       "      <td>2</td>\n",
       "      <td>19.408841,-99.181692</td>\n",
       "      <td>Selekto</td>\n",
       "      <td>19.408760</td>\n",
       "      <td>-99.181755</td>\n",
       "      <td>25</td>\n",
       "      <td>Restaurant</td>\n",
       "      <td>13065</td>\n",
       "      <td>2.0</td>\n",
       "      <td>19.408841,-99.181692</td>\n",
       "    </tr>\n",
       "    <tr>\n",
       "      <th>54</th>\n",
       "      <td>189</td>\n",
       "      <td>19.408841</td>\n",
       "      <td>-99.181692</td>\n",
       "      <td>17</td>\n",
       "      <td>2</td>\n",
       "      <td>19.408841,-99.181692</td>\n",
       "      <td>Hamburguesas y Jochos Chingones</td>\n",
       "      <td>19.408760</td>\n",
       "      <td>-99.181755</td>\n",
       "      <td>27</td>\n",
       "      <td>Burger Joint</td>\n",
       "      <td>13031</td>\n",
       "      <td>1.0</td>\n",
       "      <td>19.408841,-99.181692</td>\n",
       "    </tr>\n",
       "    <tr>\n",
       "      <th>55</th>\n",
       "      <td>189</td>\n",
       "      <td>19.408841</td>\n",
       "      <td>-99.181692</td>\n",
       "      <td>17</td>\n",
       "      <td>2</td>\n",
       "      <td>19.408841,-99.181692</td>\n",
       "      <td>hochos \"El Bigotes\"</td>\n",
       "      <td>19.408855</td>\n",
       "      <td>-99.181996</td>\n",
       "      <td>43</td>\n",
       "      <td>Hot Dog Joint</td>\n",
       "      <td>13058</td>\n",
       "      <td>1.0</td>\n",
       "      <td>19.408841,-99.181692</td>\n",
       "    </tr>\n",
       "    <tr>\n",
       "      <th>56</th>\n",
       "      <td>189</td>\n",
       "      <td>19.408841</td>\n",
       "      <td>-99.181692</td>\n",
       "      <td>17</td>\n",
       "      <td>2</td>\n",
       "      <td>19.408841,-99.181692</td>\n",
       "      <td>Alemanas</td>\n",
       "      <td>19.409119</td>\n",
       "      <td>-99.181201</td>\n",
       "      <td>52</td>\n",
       "      <td>Comfort Food Restaurant</td>\n",
       "      <td>13134</td>\n",
       "      <td>NaN</td>\n",
       "      <td>19.408841,-99.181692</td>\n",
       "    </tr>\n",
       "    <tr>\n",
       "      <th>57</th>\n",
       "      <td>189</td>\n",
       "      <td>19.408841</td>\n",
       "      <td>-99.181692</td>\n",
       "      <td>17</td>\n",
       "      <td>2</td>\n",
       "      <td>19.408841,-99.181692</td>\n",
       "      <td>Antreando</td>\n",
       "      <td>19.408922</td>\n",
       "      <td>-99.182304</td>\n",
       "      <td>64</td>\n",
       "      <td>Night Club</td>\n",
       "      <td>10032</td>\n",
       "      <td>NaN</td>\n",
       "      <td>19.408841,-99.181692</td>\n",
       "    </tr>\n",
       "    <tr>\n",
       "      <th>58</th>\n",
       "      <td>189</td>\n",
       "      <td>19.408841</td>\n",
       "      <td>-99.181692</td>\n",
       "      <td>17</td>\n",
       "      <td>2</td>\n",
       "      <td>19.408841,-99.181692</td>\n",
       "      <td>El Alemán</td>\n",
       "      <td>19.409132</td>\n",
       "      <td>-99.182232</td>\n",
       "      <td>65</td>\n",
       "      <td>Deli</td>\n",
       "      <td>13039</td>\n",
       "      <td>1.0</td>\n",
       "      <td>19.408841,-99.181692</td>\n",
       "    </tr>\n",
       "  </tbody>\n",
       "</table>\n",
       "</div>"
      ],
      "text/plain": [
       "    uid  latitude_x  longitude_x  empty_slots  free_bikes  \\\n",
       "0   110   19.432819   -99.151734            4          19   \n",
       "1   110   19.432819   -99.151734            4          19   \n",
       "2   110   19.432819   -99.151734            4          19   \n",
       "3   110   19.432819   -99.151734            4          19   \n",
       "4   110   19.432819   -99.151734            4          19   \n",
       "5   110   19.432819   -99.151734            4          19   \n",
       "6   110   19.432819   -99.151734            4          19   \n",
       "7   110   19.432819   -99.151734            4          19   \n",
       "8   110   19.432819   -99.151734            4          19   \n",
       "9   110   19.432819   -99.151734            4          19   \n",
       "10  110   19.432819   -99.151734            4          19   \n",
       "11  110   19.432819   -99.151734            4          19   \n",
       "12  110   19.432819   -99.151734            4          19   \n",
       "13  110   19.432819   -99.151734            4          19   \n",
       "14  110   19.432819   -99.151734            4          19   \n",
       "15  193   19.422288   -99.162138           30           4   \n",
       "16  193   19.422288   -99.162138           30           4   \n",
       "17  193   19.422288   -99.162138           30           4   \n",
       "18  193   19.422288   -99.162138           30           4   \n",
       "19  193   19.422288   -99.162138           30           4   \n",
       "20  193   19.422288   -99.162138           30           4   \n",
       "21   88   19.422148   -99.160645           10          13   \n",
       "22   88   19.422148   -99.160645           10          13   \n",
       "23   88   19.422148   -99.160645           10          13   \n",
       "24   88   19.422148   -99.160645           10          13   \n",
       "25   88   19.422148   -99.160645           10          13   \n",
       "26   88   19.422148   -99.160645           10          13   \n",
       "27   88   19.422148   -99.160645           10          13   \n",
       "28   88   19.422148   -99.160645           10          13   \n",
       "29   88   19.422148   -99.160645           10          13   \n",
       "30   88   19.422148   -99.160645           10          13   \n",
       "31   88   19.422148   -99.160645           10          13   \n",
       "32   88   19.422148   -99.160645           10          13   \n",
       "33  138   19.420667   -99.156450           14           9   \n",
       "34  138   19.420667   -99.156450           14           9   \n",
       "35  138   19.420667   -99.156450           14           9   \n",
       "36  138   19.420667   -99.156450           14           9   \n",
       "37  138   19.420667   -99.156450           14           9   \n",
       "38  138   19.420667   -99.156450           14           9   \n",
       "39  138   19.420667   -99.156450           14           9   \n",
       "40  138   19.420667   -99.156450           14           9   \n",
       "41  138   19.420667   -99.156450           14           9   \n",
       "42  138   19.420667   -99.156450           14           9   \n",
       "43  138   19.420667   -99.156450           14           9   \n",
       "44  138   19.420667   -99.156450           14           9   \n",
       "45  138   19.420667   -99.156450           14           9   \n",
       "46  138   19.420667   -99.156450           14           9   \n",
       "47  138   19.420667   -99.156450           14           9   \n",
       "48  138   19.420667   -99.156450           14           9   \n",
       "49  189   19.408841   -99.181692           17           2   \n",
       "50  189   19.408841   -99.181692           17           2   \n",
       "51  189   19.408841   -99.181692           17           2   \n",
       "52  189   19.408841   -99.181692           17           2   \n",
       "53  189   19.408841   -99.181692           17           2   \n",
       "54  189   19.408841   -99.181692           17           2   \n",
       "55  189   19.408841   -99.181692           17           2   \n",
       "56  189   19.408841   -99.181692           17           2   \n",
       "57  189   19.408841   -99.181692           17           2   \n",
       "58  189   19.408841   -99.181692           17           2   \n",
       "\n",
       "                      ll                                   POI_name  \\\n",
       "0   19.432819,-99.151734                                    La Cima   \n",
       "1   19.432819,-99.151734                             Viento en Popa   \n",
       "2   19.432819,-99.151734                                    El Mana   \n",
       "3   19.432819,-99.151734                                  El tequio   \n",
       "4   19.432819,-99.151734                   Cantina el Dragón de Oro   \n",
       "5   19.432819,-99.151734                    Tequio \"Sazón Chilango\"   \n",
       "6   19.432819,-99.151734                        Los Tacos del Seven   \n",
       "7   19.432819,-99.151734                   Cantina el Dragón de Oro   \n",
       "8   19.432819,-99.151734                          Cafeteria de Cuba   \n",
       "9   19.432819,-99.151734                              El Buen Amigo   \n",
       "10  19.432819,-99.151734                                   El Cielo   \n",
       "11  19.432819,-99.151734                             Café la Habana   \n",
       "12  19.432819,-99.151734                            Tacos el Carnal   \n",
       "13  19.432819,-99.151734                                Brujas Café   \n",
       "14  19.432819,-99.151734                              Articulo #123   \n",
       "15  19.422288,-99.162138                                Caldos Bens   \n",
       "16  19.422288,-99.162138                               Casa Lorenzo   \n",
       "17  19.422288,-99.162138                   Daddy's Burgers & Salads   \n",
       "18  19.422288,-99.162138                     Las Gorditas de Puebla   \n",
       "19  19.422288,-99.162138                    Gorditas de la glorieta   \n",
       "20  19.422288,-99.162138                     Taquería Vista Hermosa   \n",
       "21  19.422148,-99.160645           Hungry Beast Juice Bar & Kitchen   \n",
       "22  19.422148,-99.160645                           Bottega Sartoria   \n",
       "23  19.422148,-99.160645                     Pizzera Della Maddonna   \n",
       "24  19.422148,-99.160645                                     Cucina   \n",
       "25  19.422148,-99.160645                                       Buna   \n",
       "26  19.422148,-99.160645                                    Madonna   \n",
       "27  19.422148,-99.160645                                   Sartoria   \n",
       "28  19.422148,-99.160645                            Museo PADRE PRO   \n",
       "29  19.422148,-99.160645                                   El Sambi   \n",
       "30  19.422148,-99.160645  Santaigo Arte Conservacion y Restauracion   \n",
       "31  19.422148,-99.160645                               Café Toscano   \n",
       "32  19.422148,-99.160645                              La Buena Mesa   \n",
       "33   19.420667,-99.15645                    Modena Pizza Napolitana   \n",
       "34   19.420667,-99.15645                               The Food Box   \n",
       "35   19.420667,-99.15645                            Comal de Piedra   \n",
       "36   19.420667,-99.15645                           La Ensalada Loka   \n",
       "37   19.420667,-99.15645            Penya Blaugrana Ciutat de Mèxic   \n",
       "38   19.420667,-99.15645                      Salón Paseo de Gracia   \n",
       "39   19.420667,-99.15645                                   Sr. Taco   \n",
       "40   19.420667,-99.15645                              Frito y Cruel   \n",
       "41   19.420667,-99.15645                                Los Lonches   \n",
       "42   19.420667,-99.15645                                  Nitrology   \n",
       "43   19.420667,-99.15645                                El Cuartito   \n",
       "44   19.420667,-99.15645                             Distro Bistrot   \n",
       "45   19.420667,-99.15645                           Eva Sandwichería   \n",
       "46   19.420667,-99.15645                              Tortas Perras   \n",
       "47   19.420667,-99.15645                    El Jacinto Fonda Vegana   \n",
       "48   19.420667,-99.15645                Café Memorias de un Barista   \n",
       "49  19.408841,-99.181692                      Hamburguesas la Salle   \n",
       "50  19.408841,-99.181692                             Tortas el Puas   \n",
       "51  19.408841,-99.181692                      Quesadillas Chingonas   \n",
       "52  19.408841,-99.181692                          Tlacoyos y Quecas   \n",
       "53  19.408841,-99.181692                                    Selekto   \n",
       "54  19.408841,-99.181692            Hamburguesas y Jochos Chingones   \n",
       "55  19.408841,-99.181692                        hochos \"El Bigotes\"   \n",
       "56  19.408841,-99.181692                                   Alemanas   \n",
       "57  19.408841,-99.181692                                  Antreando   \n",
       "58  19.408841,-99.181692                                  El Alemán   \n",
       "\n",
       "    latitude_y  longitude_y  distance                    category_name  \\\n",
       "0    19.432791   -99.151747         3                              Bar   \n",
       "1    19.432556   -99.151432        43               Seafood Restaurant   \n",
       "2    19.432653   -99.152212        48               Mexican Restaurant   \n",
       "3    19.433077   -99.152199        56               Mexican Restaurant   \n",
       "4    19.432772   -99.152359        65                       Restaurant   \n",
       "5    19.433237   -99.152187        66                  Taco Restaurant   \n",
       "6    19.433188   -99.152015        66                  Taco Restaurant   \n",
       "7    19.432631   -99.152336        66                           Bistro   \n",
       "8    19.432507   -99.151154        69                       Restaurant   \n",
       "9    19.432507   -99.151154        74                     Burger Joint   \n",
       "10   19.433368   -99.151738        75               Mexican Restaurant   \n",
       "11   19.432479   -99.151221        81                             Café   \n",
       "12   19.432507   -99.151154        81                  Taco Restaurant   \n",
       "13   19.432314   -99.151306        83                      Coffee Shop   \n",
       "14   19.432946   -99.151033        85                  Thai Restaurant   \n",
       "15   19.422332   -99.162116         5                       Restaurant   \n",
       "16   19.422647   -99.162138        21               Mexican Restaurant   \n",
       "17   19.422374   -99.161857        30                     Burger Joint   \n",
       "18   19.422402   -99.161790        39               Mexican Restaurant   \n",
       "19   19.422813   -99.161736        55               Mexican Restaurant   \n",
       "20   19.422731   -99.161620        56                  Taco Restaurant   \n",
       "21   19.422172   -99.160933        15                       Restaurant   \n",
       "22   19.422200   -99.160866        16                             Deli   \n",
       "23   19.422188   -99.160819        18                         Pizzeria   \n",
       "24   19.422052   -99.160830        22                       Restaurant   \n",
       "25   19.421955   -99.160518        25                             Café   \n",
       "26   19.422083   -99.160909        28               Italian Restaurant   \n",
       "27   19.421845   -99.160469        33               Italian Restaurant   \n",
       "28   19.422445   -99.160866        40                   History Museum   \n",
       "29   19.421746   -99.161179        57                     Cocktail Bar   \n",
       "30   19.421679   -99.160871        57                       Restaurant   \n",
       "31   19.421845   -99.160469        61                             Café   \n",
       "32   19.421679   -99.160871        61               Mexican Restaurant   \n",
       "33   19.420834   -99.156484        15                         Pizzeria   \n",
       "34   19.420831   -99.156399        18                     Burger Joint   \n",
       "35   19.420903   -99.156475        19               Mexican Restaurant   \n",
       "36   19.420957   -99.156658        28                 Salad Restaurant   \n",
       "37   19.420973   -99.156150        30                           Lounge   \n",
       "38   19.420973   -99.156150        31                       Restaurant   \n",
       "39   19.420492   -99.156529        32               Mexican Restaurant   \n",
       "40   19.420464   -99.156596        33              Fried Chicken Joint   \n",
       "41   19.420439   -99.156029        36              Sandwich Restaurant   \n",
       "42   19.420480   -99.156087        39                 Ice Cream Parlor   \n",
       "43   19.420626   -99.156058        41                        Speakeasy   \n",
       "44   19.420494   -99.156086        44                           Bistro   \n",
       "45   19.420296   -99.156249        46              Sandwich Restaurant   \n",
       "46   19.420302   -99.156047        50                             Deli   \n",
       "47   19.421238   -99.156418        63  Vegan and Vegetarian Restaurant   \n",
       "48   19.421190   -99.156564        64                      Coffee Shop   \n",
       "49   19.408918   -99.181829        16                     Burger Joint   \n",
       "50   19.408555   -99.181782        20              Sandwich Restaurant   \n",
       "51   19.408760   -99.181755        22                  Taco Restaurant   \n",
       "52   19.408967   -99.181894        25               Mexican Restaurant   \n",
       "53   19.408760   -99.181755        25                       Restaurant   \n",
       "54   19.408760   -99.181755        27                     Burger Joint   \n",
       "55   19.408855   -99.181996        43                    Hot Dog Joint   \n",
       "56   19.409119   -99.181201        52          Comfort Food Restaurant   \n",
       "57   19.408922   -99.182304        64                       Night Club   \n",
       "58   19.409132   -99.182232        65                             Deli   \n",
       "\n",
       "    category_id  prices               bike_ll  \n",
       "0         13003     2.0  19.432819,-99.151734  \n",
       "1         13338     3.0  19.432819,-99.151734  \n",
       "2         13303     1.0  19.432819,-99.151734  \n",
       "3         13303     1.0  19.432819,-99.151734  \n",
       "4         13065     2.0  19.432819,-99.151734  \n",
       "5         13306     1.0  19.432819,-99.151734  \n",
       "6         13306     1.0  19.432819,-99.151734  \n",
       "7         13027     NaN  19.432819,-99.151734  \n",
       "8         13065     NaN  19.432819,-99.151734  \n",
       "9         13031     1.0  19.432819,-99.151734  \n",
       "10        13303     1.0  19.432819,-99.151734  \n",
       "11        13034     2.0  19.432819,-99.151734  \n",
       "12        13306     1.0  19.432819,-99.151734  \n",
       "13        13035     1.0  19.432819,-99.151734  \n",
       "14        13352     2.0  19.432819,-99.151734  \n",
       "15        13065     NaN  19.422288,-99.162138  \n",
       "16        13303     1.0  19.422288,-99.162138  \n",
       "17        13031     1.0  19.422288,-99.162138  \n",
       "18        13303     1.0  19.422288,-99.162138  \n",
       "19        13303     1.0  19.422288,-99.162138  \n",
       "20        13306     1.0  19.422288,-99.162138  \n",
       "21        13065     1.0  19.422148,-99.160645  \n",
       "22        13039     1.0  19.422148,-99.160645  \n",
       "23        13064     1.0  19.422148,-99.160645  \n",
       "24        13065     2.0  19.422148,-99.160645  \n",
       "25        13034     NaN  19.422148,-99.160645  \n",
       "26        13236     2.0  19.422148,-99.160645  \n",
       "27        13236     2.0  19.422148,-99.160645  \n",
       "28        10030     NaN  19.422148,-99.160645  \n",
       "29        13009     3.0  19.422148,-99.160645  \n",
       "30        13065     NaN  19.422148,-99.160645  \n",
       "31        13034     2.0  19.422148,-99.160645  \n",
       "32        13303     1.0  19.422148,-99.160645  \n",
       "33        13064     1.0   19.420667,-99.15645  \n",
       "34        13031     1.0   19.420667,-99.15645  \n",
       "35        13303     1.0   19.420667,-99.15645  \n",
       "36        13332     1.0   19.420667,-99.15645  \n",
       "37        13016     3.0   19.420667,-99.15645  \n",
       "38        13065     2.0   19.420667,-99.15645  \n",
       "39        13303     1.0   19.420667,-99.15645  \n",
       "40        13055     1.0   19.420667,-99.15645  \n",
       "41        13334     1.0   19.420667,-99.15645  \n",
       "42        13046     1.0   19.420667,-99.15645  \n",
       "43        13021     3.0   19.420667,-99.15645  \n",
       "44        13027     NaN   19.420667,-99.15645  \n",
       "45        13334     1.0   19.420667,-99.15645  \n",
       "46        13039     1.0   19.420667,-99.15645  \n",
       "47        13377     2.0   19.420667,-99.15645  \n",
       "48        13035     1.0   19.420667,-99.15645  \n",
       "49        13031     1.0  19.408841,-99.181692  \n",
       "50        13334     1.0  19.408841,-99.181692  \n",
       "51        13306     1.0  19.408841,-99.181692  \n",
       "52        13303     1.0  19.408841,-99.181692  \n",
       "53        13065     2.0  19.408841,-99.181692  \n",
       "54        13031     1.0  19.408841,-99.181692  \n",
       "55        13058     1.0  19.408841,-99.181692  \n",
       "56        13134     NaN  19.408841,-99.181692  \n",
       "57        10032     NaN  19.408841,-99.181692  \n",
       "58        13039     1.0  19.408841,-99.181692  "
      ]
     },
     "execution_count": 49,
     "metadata": {},
     "output_type": "execute_result"
    }
   ],
   "source": [
    "five_locs"
   ]
  },
  {
   "cell_type": "code",
   "execution_count": null,
   "metadata": {},
   "outputs": [],
   "source": []
  },
  {
   "cell_type": "code",
   "execution_count": null,
   "metadata": {},
   "outputs": [],
   "source": []
  },
  {
   "cell_type": "markdown",
   "metadata": {},
   "source": [
    "Provide a visualization that you used as part of your EDA process. Explain the initial pattern or relationship you discoved through this visualization. "
   ]
  },
  {
   "cell_type": "code",
   "execution_count": 50,
   "metadata": {},
   "outputs": [
    {
     "data": {
      "image/png": "[encoded data removed]",
      "text/plain": [
       "<Figure size 640x480 with 1 Axes>"
      ]
     },
     "metadata": {},
     "output_type": "display_data"
    }
   ],
   "source": [
    "#plt.figure(figsize=(8, 8))\n",
    "#cdmx_map.scatter(longitude-99.151747, latitude19.432791 latlon=True, color='blue', zorder=5)\n",
    "\n",
    "latitude_x = five_locs.latitude_x.values\n",
    "longitude_x = five_locs.longitude_x.values\n",
    "latitude_y = five_locs.latitude_y.values\n",
    "longitude_y = five_locs.longitude_y.values\n",
    "\n",
    "cdmx_map = bm(llcrnrlon= -99.13, llcrnrlat =19.46, urcrnrlon= -99.2, urcrnrlat= 19.38, projection=\"cyl\") \n",
    "cdmx_map.drawcoastlines = False\n",
    "cdmx_map.drawmapboundary = False\n",
    "cdmx_map.fillcontinents = False\n",
    "\n",
    "cdmx_map.scatter(longitude_x, latitude_x, latlon=True, color='red', zorder=5)\n",
    "cdmx_map.scatter(longitude_y, latitude_y, latlon=True, color='blue', zorder=5)\n",
    "\n",
    "plt.show()\n"
   ]
  },
  {
   "cell_type": "code",
   "execution_count": 52,
   "metadata": {},
   "outputs": [
    {
     "data": {
      "application/vnd.plotly.v1+json": {
       "config": {
        "plotlyServerURL": "https://plot.ly"
       },
       "data": [
        {
         "hovertemplate": "size=%{marker.size}<br>latitude_x=%{lat}<br>longitude_x=%{lon}<extra></extra>",
         "lat": [
          19.432819,
          19.432819,
          19.432819,
          19.432819,
          19.432819,
          19.432819,
          19.432819,
          19.432819,
          19.432819,
          19.432819,
          19.432819,
          19.432819,
          19.432819,
          19.432819,
          19.432819,
          19.422288,
          19.422288,
          19.422288,
          19.422288,
          19.422288,
          19.422288,
          19.422148,
          19.422148,
          19.422148,
          19.422148,
          19.422148,
          19.422148,
          19.422148,
          19.422148,
          19.422148,
          19.422148,
          19.422148,
          19.422148,
          19.420667,
          19.420667,
          19.420667,
          19.420667,
          19.420667,
          19.420667,
          19.420667,
          19.420667,
          19.420667,
          19.420667,
          19.420667,
          19.420667,
          19.420667,
          19.420667,
          19.420667,
          19.420667,
          19.408841,
          19.408841,
          19.408841,
          19.408841,
          19.408841,
          19.408841,
          19.408841,
          19.408841,
          19.408841,
          19.408841
         ],
         "legendgroup": "",
         "lon": [
          -99.151734,
          -99.151734,
          -99.151734,
          -99.151734,
          -99.151734,
          -99.151734,
          -99.151734,
          -99.151734,
          -99.151734,
          -99.151734,
          -99.151734,
          -99.151734,
          -99.151734,
          -99.151734,
          -99.151734,
          -99.162138,
          -99.162138,
          -99.162138,
          -99.162138,
          -99.162138,
          -99.162138,
          -99.160645,
          -99.160645,
          -99.160645,
          -99.160645,
          -99.160645,
          -99.160645,
          -99.160645,
          -99.160645,
          -99.160645,
          -99.160645,
          -99.160645,
          -99.160645,
          -99.15645,
          -99.15645,
          -99.15645,
          -99.15645,
          -99.15645,
          -99.15645,
          -99.15645,
          -99.15645,
          -99.15645,
          -99.15645,
          -99.15645,
          -99.15645,
          -99.15645,
          -99.15645,
          -99.15645,
          -99.15645,
          -99.181692,
          -99.181692,
          -99.181692,
          -99.181692,
          -99.181692,
          -99.181692,
          -99.181692,
          -99.181692,
          -99.181692,
          -99.181692
         ],
         "marker": {
          "color": "#636efa",
          "size": [
           20,
           20,
           20,
           20,
           20,
           20,
           20,
           20,
           20,
           20,
           20,
           20,
           20,
           20,
           20,
           20,
           20,
           20,
           20,
           20,
           20,
           20,
           20,
           20,
           20,
           20,
           20,
           20,
           20,
           20,
           20,
           20,
           20,
           20,
           20,
           20,
           20,
           20,
           20,
           20,
           20,
           20,
           20,
           20,
           20,
           20,
           20,
           20,
           20,
           20,
           20,
           20,
           20,
           20,
           20,
           20,
           20,
           20,
           20
          ],
          "sizemode": "area",
          "sizeref": 0.05
         },
         "mode": "markers",
         "name": "",
         "showlegend": false,
         "subplot": "mapbox",
         "type": "scattermapbox"
        }
       ],
       "layout": {
        "legend": {
         "itemsizing": "constant",
         "tracegroupgap": 0
        },
        "mapbox": {
         "center": {
          "lat": 19.422218152542364,
          "lon": -99.1609609830509
         },
         "domain": {
          "x": [
           0,
           1
          ],
          "y": [
           0,
           1
          ]
         },
         "zoom": 14
        },
        "margin": {
         "t": 60
        },
        "template": {
         "data": {
          "bar": [
           {
            "error_x": {
             "color": "#2a3f5f"
            },
            "error_y": {
             "color": "#2a3f5f"
            },
            "marker": {
             "line": {
              "color": "#E5ECF6",
              "width": 0.5
             },
             "pattern": {
              "fillmode": "overlay",
              "size": 10,
              "solidity": 0.2
             }
            },
            "type": "bar"
           }
          ],
          "barpolar": [
           {
            "marker": {
             "line": {
              "color": "#E5ECF6",
              "width": 0.5
             },
             "pattern": {
              "fillmode": "overlay",
              "size": 10,
              "solidity": 0.2
             }
            },
            "type": "barpolar"
           }
          ],
          "carpet": [
           {
            "aaxis": {
             "endlinecolor": "#2a3f5f",
             "gridcolor": "white",
             "linecolor": "white",
             "minorgridcolor": "white",
             "startlinecolor": "#2a3f5f"
            },
            "baxis": {
             "endlinecolor": "#2a3f5f",
             "gridcolor": "white",
             "linecolor": "white",
             "minorgridcolor": "white",
             "startlinecolor": "#2a3f5f"
            },
            "type": "carpet"
           }
          ],
          "choropleth": [
           {
            "colorbar": {
             "outlinewidth": 0,
             "ticks": ""
            },
            "type": "choropleth"
           }
          ],
          "contour": [
           {
            "colorbar": {
             "outlinewidth": 0,
             "ticks": ""
            },
            "colorscale": [
             [
              0,
              "#0d0887"
             ],
             [
              0.1111111111111111,
              "#46039f"
             ],
             [
              0.2222222222222222,
              "#7201a8"
             ],
             [
              0.3333333333333333,
              "#9c179e"
             ],
             [
              0.4444444444444444,
              "#bd3786"
             ],
             [
              0.5555555555555556,
              "#d8576b"
             ],
             [
              0.6666666666666666,
              "#ed7953"
             ],
             [
              0.7777777777777778,
              "#fb9f3a"
             ],
             [
              0.8888888888888888,
              "#fdca26"
             ],
             [
              1,
              "#f0f921"
             ]
            ],
            "type": "contour"
           }
          ],
          "contourcarpet": [
           {
            "colorbar": {
             "outlinewidth": 0,
             "ticks": ""
            },
            "type": "contourcarpet"
           }
          ],
          "heatmap": [
           {
            "colorbar": {
             "outlinewidth": 0,
             "ticks": ""
            },
            "colorscale": [
             [
              0,
              "#0d0887"
             ],
             [
              0.1111111111111111,
              "#46039f"
             ],
             [
              0.2222222222222222,
              "#7201a8"
             ],
             [
              0.3333333333333333,
              "#9c179e"
             ],
             [
              0.4444444444444444,
              "#bd3786"
             ],
             [
              0.5555555555555556,
              "#d8576b"
             ],
             [
              0.6666666666666666,
              "#ed7953"
             ],
             [
              0.7777777777777778,
              "#fb9f3a"
             ],
             [
              0.8888888888888888,
              "#fdca26"
             ],
             [
              1,
              "#f0f921"
             ]
            ],
            "type": "heatmap"
           }
          ],
          "heatmapgl": [
           {
            "colorbar": {
             "outlinewidth": 0,
             "ticks": ""
            },
            "colorscale": [
             [
              0,
              "#0d0887"
             ],
             [
              0.1111111111111111,
              "#46039f"
             ],
             [
              0.2222222222222222,
              "#7201a8"
             ],
             [
              0.3333333333333333,
              "#9c179e"
             ],
             [
              0.4444444444444444,
              "#bd3786"
             ],
             [
              0.5555555555555556,
              "#d8576b"
             ],
             [
              0.6666666666666666,
              "#ed7953"
             ],
             [
              0.7777777777777778,
              "#fb9f3a"
             ],
             [
              0.8888888888888888,
              "#fdca26"
             ],
             [
              1,
              "#f0f921"
             ]
            ],
            "type": "heatmapgl"
           }
          ],
          "histogram": [
           {
            "marker": {
             "pattern": {
              "fillmode": "overlay",
              "size": 10,
              "solidity": 0.2
             }
            },
            "type": "histogram"
           }
          ],
          "histogram2d": [
           {
            "colorbar": {
             "outlinewidth": 0,
             "ticks": ""
            },
            "colorscale": [
             [
              0,
              "#0d0887"
             ],
             [
              0.1111111111111111,
              "#46039f"
             ],
             [
              0.2222222222222222,
              "#7201a8"
             ],
             [
              0.3333333333333333,
              "#9c179e"
             ],
             [
              0.4444444444444444,
              "#bd3786"
             ],
             [
              0.5555555555555556,
              "#d8576b"
             ],
             [
              0.6666666666666666,
              "#ed7953"
             ],
             [
              0.7777777777777778,
              "#fb9f3a"
             ],
             [
              0.8888888888888888,
              "#fdca26"
             ],
             [
              1,
              "#f0f921"
             ]
            ],
            "type": "histogram2d"
           }
          ],
          "histogram2dcontour": [
           {
            "colorbar": {
             "outlinewidth": 0,
             "ticks": ""
            },
            "colorscale": [
             [
              0,
              "#0d0887"
             ],
             [
              0.1111111111111111,
              "#46039f"
             ],
             [
              0.2222222222222222,
              "#7201a8"
             ],
             [
              0.3333333333333333,
              "#9c179e"
             ],
             [
              0.4444444444444444,
              "#bd3786"
             ],
             [
              0.5555555555555556,
              "#d8576b"
             ],
             [
              0.6666666666666666,
              "#ed7953"
             ],
             [
              0.7777777777777778,
              "#fb9f3a"
             ],
             [
              0.8888888888888888,
              "#fdca26"
             ],
             [
              1,
              "#f0f921"
             ]
            ],
            "type": "histogram2dcontour"
           }
          ],
          "mesh3d": [
           {
            "colorbar": {
             "outlinewidth": 0,
             "ticks": ""
            },
            "type": "mesh3d"
           }
          ],
          "parcoords": [
           {
            "line": {
             "colorbar": {
              "outlinewidth": 0,
              "ticks": ""
             }
            },
            "type": "parcoords"
           }
          ],
          "pie": [
           {
            "automargin": true,
            "type": "pie"
           }
          ],
          "scatter": [
           {
            "fillpattern": {
             "fillmode": "overlay",
             "size": 10,
             "solidity": 0.2
            },
            "type": "scatter"
           }
          ],
          "scatter3d": [
           {
            "line": {
             "colorbar": {
              "outlinewidth": 0,
              "ticks": ""
             }
            },
            "marker": {
             "colorbar": {
              "outlinewidth": 0,
              "ticks": ""
             }
            },
            "type": "scatter3d"
           }
          ],
          "scattercarpet": [
           {
            "marker": {
             "colorbar": {
              "outlinewidth": 0,
              "ticks": ""
             }
            },
            "type": "scattercarpet"
           }
          ],
          "scattergeo": [
           {
            "marker": {
             "colorbar": {
              "outlinewidth": 0,
              "ticks": ""
             }
            },
            "type": "scattergeo"
           }
          ],
          "scattergl": [
           {
            "marker": {
             "colorbar": {
              "outlinewidth": 0,
              "ticks": ""
             }
            },
            "type": "scattergl"
           }
          ],
          "scattermapbox": [
           {
            "marker": {
             "colorbar": {
              "outlinewidth": 0,
              "ticks": ""
             }
            },
            "type": "scattermapbox"
           }
          ],
          "scatterpolar": [
           {
            "marker": {
             "colorbar": {
              "outlinewidth": 0,
              "ticks": ""
             }
            },
            "type": "scatterpolar"
           }
          ],
          "scatterpolargl": [
           {
            "marker": {
             "colorbar": {
              "outlinewidth": 0,
              "ticks": ""
             }
            },
            "type": "scatterpolargl"
           }
          ],
          "scatterternary": [
           {
            "marker": {
             "colorbar": {
              "outlinewidth": 0,
              "ticks": ""
             }
            },
            "type": "scatterternary"
           }
          ],
          "surface": [
           {
            "colorbar": {
             "outlinewidth": 0,
             "ticks": ""
            },
            "colorscale": [
             [
              0,
              "#0d0887"
             ],
             [
              0.1111111111111111,
              "#46039f"
             ],
             [
              0.2222222222222222,
              "#7201a8"
             ],
             [
              0.3333333333333333,
              "#9c179e"
             ],
             [
              0.4444444444444444,
              "#bd3786"
             ],
             [
              0.5555555555555556,
              "#d8576b"
             ],
             [
              0.6666666666666666,
              "#ed7953"
             ],
             [
              0.7777777777777778,
              "#fb9f3a"
             ],
             [
              0.8888888888888888,
              "#fdca26"
             ],
             [
              1,
              "#f0f921"
             ]
            ],
            "type": "surface"
           }
          ],
          "table": [
           {
            "cells": {
             "fill": {
              "color": "#EBF0F8"
             },
             "line": {
              "color": "white"
             }
            },
            "header": {
             "fill": {
              "color": "#C8D4E3"
             },
             "line": {
              "color": "white"
             }
            },
            "type": "table"
           }
          ]
         },
         "layout": {
          "annotationdefaults": {
           "arrowcolor": "#2a3f5f",
           "arrowhead": 0,
           "arrowwidth": 1
          },
          "autotypenumbers": "strict",
          "coloraxis": {
           "colorbar": {
            "outlinewidth": 0,
            "ticks": ""
           }
          },
          "colorscale": {
           "diverging": [
            [
             0,
             "#8e0152"
            ],
            [
             0.1,
             "#c51b7d"
            ],
            [
             0.2,
             "#de77ae"
            ],
            [
             0.3,
             "#f1b6da"
            ],
            [
             0.4,
             "#fde0ef"
            ],
            [
             0.5,
             "#f7f7f7"
            ],
            [
             0.6,
             "#e6f5d0"
            ],
            [
             0.7,
             "#b8e186"
            ],
            [
             0.8,
             "#7fbc41"
            ],
            [
             0.9,
             "#4d9221"
            ],
            [
             1,
             "#276419"
            ]
           ],
           "sequential": [
            [
             0,
             "#0d0887"
            ],
            [
             0.1111111111111111,
             "#46039f"
            ],
            [
             0.2222222222222222,
             "#7201a8"
            ],
            [
             0.3333333333333333,
             "#9c179e"
            ],
            [
             0.4444444444444444,
             "#bd3786"
            ],
            [
             0.5555555555555556,
             "#d8576b"
            ],
            [
             0.6666666666666666,
             "#ed7953"
            ],
            [
             0.7777777777777778,
             "#fb9f3a"
            ],
            [
             0.8888888888888888,
             "#fdca26"
            ],
            [
             1,
             "#f0f921"
            ]
           ],
           "sequentialminus": [
            [
             0,
             "#0d0887"
            ],
            [
             0.1111111111111111,
             "#46039f"
            ],
            [
             0.2222222222222222,
             "#7201a8"
            ],
            [
             0.3333333333333333,
             "#9c179e"
            ],
            [
             0.4444444444444444,
             "#bd3786"
            ],
            [
             0.5555555555555556,
             "#d8576b"
            ],
            [
             0.6666666666666666,
             "#ed7953"
            ],
            [
             0.7777777777777778,
             "#fb9f3a"
            ],
            [
             0.8888888888888888,
             "#fdca26"
            ],
            [
             1,
             "#f0f921"
            ]
           ]
          },
          "colorway": [
           "#636efa",
           "#EF553B",
           "#00cc96",
           "#ab63fa",
           "#FFA15A",
           "#19d3f3",
           "#FF6692",
           "#B6E880",
           "#FF97FF",
           "#FECB52"
          ],
          "font": {
           "color": "#2a3f5f"
          },
          "geo": {
           "bgcolor": "white",
           "lakecolor": "white",
           "landcolor": "#E5ECF6",
           "showlakes": true,
           "showland": true,
           "subunitcolor": "white"
          },
          "hoverlabel": {
           "align": "left"
          },
          "hovermode": "closest",
          "mapbox": {
           "style": "light"
          },
          "paper_bgcolor": "white",
          "plot_bgcolor": "#E5ECF6",
          "polar": {
           "angularaxis": {
            "gridcolor": "white",
            "linecolor": "white",
            "ticks": ""
           },
           "bgcolor": "#E5ECF6",
           "radialaxis": {
            "gridcolor": "white",
            "linecolor": "white",
            "ticks": ""
           }
          },
          "scene": {
           "xaxis": {
            "backgroundcolor": "#E5ECF6",
            "gridcolor": "white",
            "gridwidth": 2,
            "linecolor": "white",
            "showbackground": true,
            "ticks": "",
            "zerolinecolor": "white"
           },
           "yaxis": {
            "backgroundcolor": "#E5ECF6",
            "gridcolor": "white",
            "gridwidth": 2,
            "linecolor": "white",
            "showbackground": true,
            "ticks": "",
            "zerolinecolor": "white"
           },
           "zaxis": {
            "backgroundcolor": "#E5ECF6",
            "gridcolor": "white",
            "gridwidth": 2,
            "linecolor": "white",
            "showbackground": true,
            "ticks": "",
            "zerolinecolor": "white"
           }
          },
          "shapedefaults": {
           "line": {
            "color": "#2a3f5f"
           }
          },
          "ternary": {
           "aaxis": {
            "gridcolor": "white",
            "linecolor": "white",
            "ticks": ""
           },
           "baxis": {
            "gridcolor": "white",
            "linecolor": "white",
            "ticks": ""
           },
           "bgcolor": "#E5ECF6",
           "caxis": {
            "gridcolor": "white",
            "linecolor": "white",
            "ticks": ""
           }
          },
          "title": {
           "x": 0.05
          },
          "xaxis": {
           "automargin": true,
           "gridcolor": "white",
           "linecolor": "white",
           "ticks": "",
           "title": {
            "standoff": 15
           },
           "zerolinecolor": "white",
           "zerolinewidth": 2
          },
          "yaxis": {
           "automargin": true,
           "gridcolor": "white",
           "linecolor": "white",
           "ticks": "",
           "title": {
            "standoff": 15
           },
           "zerolinecolor": "white",
           "zerolinewidth": 2
          }
         }
        }
       }
      }
     },
     "metadata": {},
     "output_type": "display_data"
    }
   ],
   "source": [
    "import plotly.express as px\n",
    "\n",
    "five_locs['size'] = 20\n",
    "\n",
    "fig = px.scatter_mapbox(five_locs, lat=\"latitude_x\", lon=\"longitude_x\", size='size',\n",
    "                  color_continuous_scale=px.colors.sequential.Plasma,\n",
    "                  zoom=14)\n",
    "fig.show()\n"
   ]
  },
  {
   "cell_type": "markdown",
   "metadata": {},
   "source": [
    "# Database"
   ]
  },
  {
   "cell_type": "markdown",
   "metadata": {},
   "source": [
    "Put all your results in an SQLite3 database (remember, SQLite stores its databases as files in your local machine - make sure to create your database in your project's data/ directory!)"
   ]
  },
  {
   "cell_type": "code",
   "execution_count": null,
   "metadata": {},
   "outputs": [],
   "source": []
  },
  {
   "cell_type": "markdown",
   "metadata": {},
   "source": [
    "Look at the data before and after the join to validate your data."
   ]
  },
  {
   "cell_type": "code",
   "execution_count": null,
   "metadata": {},
   "outputs": [],
   "source": []
  }
 ],
 "metadata": {
  "kernelspec": {
   "display_name": "base",
   "language": "python",
   "name": "python3"
  },
  "language_info": {
   "codemirror_mode": {
    "name": "ipython",
    "version": 3
   },
   "file_extension": ".py",
   "mimetype": "text/x-python",
   "name": "python",
   "nbconvert_exporter": "python",
   "pygments_lexer": "ipython3",
   "version": "3.9.13"
  },
  "vscode": {
   "interpreter": {
    "hash": "d5ac9bcd108b2c00ec58abd00469c67a851c8d8a43230c3bc56d0205eba92786"
   }
  }
 },
 "nbformat": 4,
 "nbformat_minor": 4
}
